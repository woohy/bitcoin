{
 "cells": [
  {
   "cell_type": "code",
   "execution_count": 1,
   "metadata": {},
   "outputs": [],
   "source": [
    "import pandas as pd\n",
    "import numpy as np\n",
    "import tensorflow as tf\n",
    "from tensorflow import keras\n",
    "from tensorflow.keras.models import Sequential\n",
    "from tensorflow.keras.layers import Dropout, Dense, Activation, Bidirectional, GRU\n",
    "import datetime\n",
    "import os\n",
    "from sklearn.preprocessing import MinMaxScaler"
   ]
  },
  {
   "cell_type": "markdown",
   "metadata": {},
   "source": [
    "## 1. 데이터 전처리"
   ]
  },
  {
   "cell_type": "code",
   "execution_count": 9,
   "metadata": {
    "scrolled": true
   },
   "outputs": [
    {
     "name": "stdout",
     "output_type": "stream",
     "text": [
      "['bitcoin_20190601.csv', 'bitcoin_20190602.csv', 'bitcoin_20190603.csv', 'bitcoin_20190604.csv', 'bitcoin_20190605.csv', 'bitcoin_20190606.csv', 'bitcoin_20190607.csv', 'bitcoin_20190608.csv', 'bitcoin_20190609.csv', 'bitcoin_20190610.csv', 'bitcoin_20190611.csv', 'bitcoin_20190612.csv', 'bitcoin_20190613.csv', 'bitcoin_20190614.csv', 'bitcoin_20190615.csv', 'bitcoin_20190616.csv', 'bitcoin_20190617.csv', 'bitcoin_20190618.csv', 'bitcoin_20190619.csv', 'bitcoin_20190620.csv', 'bitcoin_20190621.csv', 'bitcoin_20190622.csv', 'bitcoin_20190623.csv', 'bitcoin_20190624.csv', 'bitcoin_20190625.csv', 'bitcoin_20190626.csv', 'bitcoin_20190627.csv', 'bitcoin_20190628.csv', 'bitcoin_20190629.csv', 'bitcoin_20190630.csv', 'bitcoin_20190701.csv', 'bitcoin_20190702.csv', 'bitcoin_20190703.csv', 'bitcoin_20190704.csv', 'bitcoin_20190705.csv', 'bitcoin_20190706.csv', 'bitcoin_20190707.csv', 'bitcoin_20190708.csv', 'bitcoin_20190709.csv', 'bitcoin_20190710.csv', 'bitcoin_20190711.csv', 'bitcoin_20190712.csv', 'bitcoin_20190713.csv', 'bitcoin_20190714.csv', 'bitcoin_20190715.csv', 'bitcoin_20190716.csv', 'bitcoin_20190717.csv', 'bitcoin_20190718.csv', 'bitcoin_20190719.csv', 'bitcoin_20190720.csv', 'bitcoin_20190721.csv', 'bitcoin_20190722.csv', 'bitcoin_20190723.csv', 'bitcoin_20190724.csv', 'bitcoin_20190725.csv', 'bitcoin_20190726.csv', 'bitcoin_20190727.csv', 'bitcoin_20190728.csv', 'bitcoin_20190729.csv', 'bitcoin_20190730.csv', 'bitcoin_20190731.csv', 'bitcoin_20190801.csv', 'bitcoin_20190802.csv', 'bitcoin_20190803.csv', 'bitcoin_20190804.csv', 'bitcoin_20190805.csv', 'bitcoin_20190806.csv', 'bitcoin_20190807.csv', 'bitcoin_20190808.csv', 'bitcoin_20190809.csv', 'bitcoin_20190810.csv', 'bitcoin_20190811.csv', 'bitcoin_20190812.csv', 'bitcoin_20190813.csv', 'bitcoin_20190814.csv', 'bitcoin_20190815.csv', 'bitcoin_20190816.csv', 'bitcoin_20190817.csv']\n",
      "(22752, 2) (22752, 1)\n"
     ]
    },
    {
     "data": {
      "text/html": [
       "<div>\n",
       "<style scoped>\n",
       "    .dataframe tbody tr th:only-of-type {\n",
       "        vertical-align: middle;\n",
       "    }\n",
       "\n",
       "    .dataframe tbody tr th {\n",
       "        vertical-align: top;\n",
       "    }\n",
       "\n",
       "    .dataframe thead th {\n",
       "        text-align: right;\n",
       "    }\n",
       "</style>\n",
       "<table border=\"1\" class=\"dataframe\">\n",
       "  <thead>\n",
       "    <tr style=\"text-align: right;\">\n",
       "      <th></th>\n",
       "      <th>c</th>\n",
       "      <th>v</th>\n",
       "    </tr>\n",
       "  </thead>\n",
       "  <tbody>\n",
       "    <tr>\n",
       "      <th>22747</th>\n",
       "      <td>12544000.0</td>\n",
       "      <td>0.000000</td>\n",
       "    </tr>\n",
       "    <tr>\n",
       "      <th>22748</th>\n",
       "      <td>12563000.0</td>\n",
       "      <td>0.000000</td>\n",
       "    </tr>\n",
       "    <tr>\n",
       "      <th>22749</th>\n",
       "      <td>12549000.0</td>\n",
       "      <td>0.160203</td>\n",
       "    </tr>\n",
       "    <tr>\n",
       "      <th>22750</th>\n",
       "      <td>12543000.0</td>\n",
       "      <td>0.000000</td>\n",
       "    </tr>\n",
       "    <tr>\n",
       "      <th>22751</th>\n",
       "      <td>12543000.0</td>\n",
       "      <td>0.000000</td>\n",
       "    </tr>\n",
       "  </tbody>\n",
       "</table>\n",
       "</div>"
      ],
      "text/plain": [
       "                c         v\n",
       "22747  12544000.0  0.000000\n",
       "22748  12563000.0  0.000000\n",
       "22749  12549000.0  0.160203\n",
       "22750  12543000.0  0.000000\n",
       "22751  12543000.0  0.000000"
      ]
     },
     "execution_count": 9,
     "metadata": {},
     "output_type": "execute_result"
    }
   ],
   "source": [
    "# 현재 경로의 csv파일 읽어와서 days수 만큼 c, v값 합치기\n",
    "folder = os.getcwd()\n",
    "files = os.listdir(folder)\n",
    "files = [x for x in files if x.find(\"bitcoin_2019\") != -1]\n",
    "\n",
    "# 학습시킬 데이터의 일 수. 필요한 만큼 조절하기\n",
    "days = 78\n",
    "print(files[-days:])\n",
    "df = pd.read_csv(files[0]).loc[:][['c', 'v']]\n",
    "df_time = pd.read_csv(files[0]).loc[:]['t']\n",
    "for f in files[-days:]:\n",
    "    tmp = pd.read_csv(f).loc[:][['c', 'v']]\n",
    "    df = df.append(tmp, ignore_index=True)\n",
    "    tmp_time = pd.read_csv(f).loc[:]['t']\n",
    "    df_time = df_time.append(tmp_time, ignore_index=True)\n",
    "\n",
    "df = pd.DataFrame(df)\n",
    "df_time = pd.DataFrame(df_time)\n",
    "print(df.shape, df_time.shape)\n",
    "df.tail()"
   ]
  },
  {
   "cell_type": "code",
   "execution_count": 10,
   "metadata": {},
   "outputs": [
    {
     "data": {
      "text/plain": [
       "(22464, 2)"
      ]
     },
     "execution_count": 10,
     "metadata": {},
     "output_type": "execute_result"
    }
   ],
   "source": [
    "# 'bitcoin_20190817.csv' 데이터 빼주기\n",
    "df = df[:len(df)-288]\n",
    "df.shape"
   ]
  },
  {
   "cell_type": "code",
   "execution_count": 11,
   "metadata": {},
   "outputs": [
    {
     "name": "stdout",
     "output_type": "stream",
     "text": [
      "[12041000. 12041000. 12041000. ... 11215000. 11215000. 11215000.]\n"
     ]
    }
   ],
   "source": [
    "# df_truth는 minmaxscale하기 전 값. 마지막에서 수익 계산을 하기 위함.\n",
    "df_truth = df.copy()\n",
    "df_truth = df_truth['c'].values\n",
    "df_truth = df_truth[-2215:]\n",
    "print(df_truth)"
   ]
  },
  {
   "cell_type": "code",
   "execution_count": 12,
   "metadata": {
    "scrolled": true
   },
   "outputs": [
    {
     "name": "stdout",
     "output_type": "stream",
     "text": [
      "(22464, 2) (2215,)\n",
      "c    0\n",
      "v    0\n",
      "dtype: int64\n"
     ]
    }
   ],
   "source": [
    "# data scaling\n",
    "scaler = MinMaxScaler(feature_range=(0, 1))\n",
    "df['c'] = scaler.fit_transform(df[['c']])\n",
    "print(df.shape, df_truth.shape)\n",
    "\n",
    "# NaN 체크\n",
    "print(df.isnull().sum())"
   ]
  },
  {
   "cell_type": "code",
   "execution_count": 13,
   "metadata": {},
   "outputs": [
    {
     "name": "stdout",
     "output_type": "stream",
     "text": [
      "(22459, 3)\n"
     ]
    },
    {
     "data": {
      "text/html": [
       "<div>\n",
       "<style scoped>\n",
       "    .dataframe tbody tr th:only-of-type {\n",
       "        vertical-align: middle;\n",
       "    }\n",
       "\n",
       "    .dataframe tbody tr th {\n",
       "        vertical-align: top;\n",
       "    }\n",
       "\n",
       "    .dataframe thead th {\n",
       "        text-align: right;\n",
       "    }\n",
       "</style>\n",
       "<table border=\"1\" class=\"dataframe\">\n",
       "  <thead>\n",
       "    <tr style=\"text-align: right;\">\n",
       "      <th></th>\n",
       "      <th>c</th>\n",
       "      <th>v</th>\n",
       "      <th>ema12</th>\n",
       "    </tr>\n",
       "  </thead>\n",
       "  <tbody>\n",
       "    <tr>\n",
       "      <th>0</th>\n",
       "      <td>0.173699</td>\n",
       "      <td>0.0</td>\n",
       "      <td>0.174664</td>\n",
       "    </tr>\n",
       "    <tr>\n",
       "      <th>1</th>\n",
       "      <td>0.177823</td>\n",
       "      <td>0.0</td>\n",
       "      <td>0.175567</td>\n",
       "    </tr>\n",
       "    <tr>\n",
       "      <th>2</th>\n",
       "      <td>0.177823</td>\n",
       "      <td>0.0</td>\n",
       "      <td>0.176211</td>\n",
       "    </tr>\n",
       "    <tr>\n",
       "      <th>3</th>\n",
       "      <td>0.175191</td>\n",
       "      <td>0.0</td>\n",
       "      <td>0.175920</td>\n",
       "    </tr>\n",
       "    <tr>\n",
       "      <th>4</th>\n",
       "      <td>0.179753</td>\n",
       "      <td>0.0</td>\n",
       "      <td>0.177015</td>\n",
       "    </tr>\n",
       "  </tbody>\n",
       "</table>\n",
       "</div>"
      ],
      "text/plain": [
       "          c    v     ema12\n",
       "0  0.173699  0.0  0.174664\n",
       "1  0.177823  0.0  0.175567\n",
       "2  0.177823  0.0  0.176211\n",
       "3  0.175191  0.0  0.175920\n",
       "4  0.179753  0.0  0.177015"
      ]
     },
     "execution_count": 13,
     "metadata": {},
     "output_type": "execute_result"
    }
   ],
   "source": [
    "# 지수이동평균선(EMA) feature로 추가하기\n",
    "import talib\n",
    "\n",
    "df[\"ema12\"] = talib.EMA(df['c'],6)\n",
    "\n",
    "dataset = df.dropna(axis=0)\n",
    "dataset=dataset.reset_index(drop=True)\n",
    "print(dataset.shape)\n",
    "dataset.head()"
   ]
  },
  {
   "cell_type": "code",
   "execution_count": 51,
   "metadata": {},
   "outputs": [
    {
     "name": "stdout",
     "output_type": "stream",
     "text": [
      "(22459, 3)\n"
     ]
    },
    {
     "data": {
      "text/html": [
       "<div>\n",
       "<style scoped>\n",
       "    .dataframe tbody tr th:only-of-type {\n",
       "        vertical-align: middle;\n",
       "    }\n",
       "\n",
       "    .dataframe tbody tr th {\n",
       "        vertical-align: top;\n",
       "    }\n",
       "\n",
       "    .dataframe thead th {\n",
       "        text-align: right;\n",
       "    }\n",
       "</style>\n",
       "<table border=\"1\" class=\"dataframe\">\n",
       "  <thead>\n",
       "    <tr style=\"text-align: right;\">\n",
       "      <th></th>\n",
       "      <th>c</th>\n",
       "      <th>v</th>\n",
       "      <th>ema12</th>\n",
       "    </tr>\n",
       "  </thead>\n",
       "  <tbody>\n",
       "    <tr>\n",
       "      <th>5</th>\n",
       "      <td>0.173699</td>\n",
       "      <td>0.0</td>\n",
       "      <td>0.174664</td>\n",
       "    </tr>\n",
       "    <tr>\n",
       "      <th>6</th>\n",
       "      <td>0.177823</td>\n",
       "      <td>0.0</td>\n",
       "      <td>0.175567</td>\n",
       "    </tr>\n",
       "    <tr>\n",
       "      <th>7</th>\n",
       "      <td>0.177823</td>\n",
       "      <td>0.0</td>\n",
       "      <td>0.176211</td>\n",
       "    </tr>\n",
       "    <tr>\n",
       "      <th>8</th>\n",
       "      <td>0.175191</td>\n",
       "      <td>0.0</td>\n",
       "      <td>0.175920</td>\n",
       "    </tr>\n",
       "    <tr>\n",
       "      <th>9</th>\n",
       "      <td>0.179753</td>\n",
       "      <td>0.0</td>\n",
       "      <td>0.177015</td>\n",
       "    </tr>\n",
       "  </tbody>\n",
       "</table>\n",
       "</div>"
      ],
      "text/plain": [
       "          c    v     ema12\n",
       "5  0.173699  0.0  0.174664\n",
       "6  0.177823  0.0  0.175567\n",
       "7  0.177823  0.0  0.176211\n",
       "8  0.175191  0.0  0.175920\n",
       "9  0.179753  0.0  0.177015"
      ]
     },
     "execution_count": 51,
     "metadata": {},
     "output_type": "execute_result"
    }
   ],
   "source": [
    "# nan값이 있다면 지워주고, 이름은 dataset변수에 따로 저장.\n",
    "dataset = df.dropna(axis=0)\n",
    "print(dataset.shape)\n",
    "dataset.head()"
   ]
  },
  {
   "cell_type": "code",
   "execution_count": 52,
   "metadata": {},
   "outputs": [
    {
     "name": "stdout",
     "output_type": "stream",
     "text": [
      "(22459, 3)\n"
     ]
    },
    {
     "data": {
      "text/html": [
       "<div>\n",
       "<style scoped>\n",
       "    .dataframe tbody tr th:only-of-type {\n",
       "        vertical-align: middle;\n",
       "    }\n",
       "\n",
       "    .dataframe tbody tr th {\n",
       "        vertical-align: top;\n",
       "    }\n",
       "\n",
       "    .dataframe thead th {\n",
       "        text-align: right;\n",
       "    }\n",
       "</style>\n",
       "<table border=\"1\" class=\"dataframe\">\n",
       "  <thead>\n",
       "    <tr style=\"text-align: right;\">\n",
       "      <th></th>\n",
       "      <th>c</th>\n",
       "      <th>v</th>\n",
       "      <th>ema12</th>\n",
       "    </tr>\n",
       "  </thead>\n",
       "  <tbody>\n",
       "    <tr>\n",
       "      <th>0</th>\n",
       "      <td>0.173699</td>\n",
       "      <td>0.0</td>\n",
       "      <td>0.174664</td>\n",
       "    </tr>\n",
       "    <tr>\n",
       "      <th>1</th>\n",
       "      <td>0.177823</td>\n",
       "      <td>0.0</td>\n",
       "      <td>0.175567</td>\n",
       "    </tr>\n",
       "    <tr>\n",
       "      <th>2</th>\n",
       "      <td>0.177823</td>\n",
       "      <td>0.0</td>\n",
       "      <td>0.176211</td>\n",
       "    </tr>\n",
       "    <tr>\n",
       "      <th>3</th>\n",
       "      <td>0.175191</td>\n",
       "      <td>0.0</td>\n",
       "      <td>0.175920</td>\n",
       "    </tr>\n",
       "    <tr>\n",
       "      <th>4</th>\n",
       "      <td>0.179753</td>\n",
       "      <td>0.0</td>\n",
       "      <td>0.177015</td>\n",
       "    </tr>\n",
       "  </tbody>\n",
       "</table>\n",
       "</div>"
      ],
      "text/plain": [
       "          c    v     ema12\n",
       "0  0.173699  0.0  0.174664\n",
       "1  0.177823  0.0  0.175567\n",
       "2  0.177823  0.0  0.176211\n",
       "3  0.175191  0.0  0.175920\n",
       "4  0.179753  0.0  0.177015"
      ]
     },
     "execution_count": 52,
     "metadata": {},
     "output_type": "execute_result"
    }
   ],
   "source": [
    "# nan이 있어서 삭제되었을 경우 index 재설정.\n",
    "print(np.shape(dataset))\n",
    "dataset=dataset.reset_index(drop=True)\n",
    "dataset[:5]"
   ]
  },
  {
   "cell_type": "code",
   "execution_count": 14,
   "metadata": {
    "scrolled": false
   },
   "outputs": [
    {
     "name": "stdout",
     "output_type": "stream",
     "text": [
      "(22147, 312, 3)\n"
     ]
    },
    {
     "data": {
      "text/plain": [
       "array([[[0.17369945, 0.        , 0.17466444],\n",
       "        [0.17782262, 0.        , 0.17556678],\n",
       "        [0.17782262, 0.        , 0.1762113 ],\n",
       "        ...,\n",
       "        [0.1822967 , 0.        , 0.179326  ],\n",
       "        [0.18510395, 0.        , 0.18097684],\n",
       "        [0.18659532, 0.        , 0.18258213]],\n",
       "\n",
       "       [[0.17782262, 0.        , 0.17556678],\n",
       "        [0.17782262, 0.        , 0.1762113 ],\n",
       "        [0.1751908 , 0.        , 0.17591973],\n",
       "        ...,\n",
       "        [0.18510395, 0.        , 0.18097684],\n",
       "        [0.18659532, 0.        , 0.18258213],\n",
       "        [0.18510395, 0.0995    , 0.18330264]]], dtype=float32)"
      ]
     },
     "execution_count": 14,
     "metadata": {},
     "output_type": "execute_result"
    }
   ],
   "source": [
    "# window 만들기\n",
    "# NPS: 과거데이터, NFS: 예측할 미래 데이터\n",
    "\n",
    "NPS = 288    # 288*5분 = 24시간 \n",
    "NFS = 24    # 24*5분 = 2시간\n",
    "sequence_length = NPS + NFS\n",
    "feature_num = len(dataset.columns)\n",
    "\n",
    "windows = []\n",
    "for idx in range(len(dataset) - sequence_length):\n",
    "    windows.append(dataset[idx: idx + sequence_length][:].values)\n",
    "\n",
    "windows = np.asarray(windows).astype('float32')\n",
    "print(np.shape(windows))\n",
    "windows[:2]"
   ]
  },
  {
   "cell_type": "code",
   "execution_count": 15,
   "metadata": {
    "scrolled": true
   },
   "outputs": [
    {
     "name": "stdout",
     "output_type": "stream",
     "text": [
      "(19932, 288, 3) (2215, 288, 3)\n",
      "(19932, 24) (2215, 24)\n"
     ]
    }
   ],
   "source": [
    "# train data와 test data로 나누기\n",
    "\n",
    "row = round(len(windows) * 0.9)\n",
    "train = windows[:row, :, :]\n",
    "\n",
    "# training data는 NPS개 이므로 sequence_length-NFS만큼 가져오기\n",
    "x_train = train[:, :NPS, :]\n",
    "y_train = train[:, NPS:, 0]\n",
    "\n",
    "x_test = windows[row:, :NPS, :]\n",
    "y_test = windows[row:, NPS:, 0]\n",
    "\n",
    "print(x_train.shape, x_test.shape)\n",
    "print(y_train.shape, y_test.shape)"
   ]
  },
  {
   "cell_type": "markdown",
   "metadata": {},
   "source": [
    "## 2. 딥러닝 모델 정의"
   ]
  },
  {
   "cell_type": "code",
   "execution_count": 10,
   "metadata": {
    "scrolled": true
   },
   "outputs": [
    {
     "name": "stdout",
     "output_type": "stream",
     "text": [
      "Model: \"sequential\"\n",
      "_________________________________________________________________\n",
      "Layer (type)                 Output Shape              Param #   \n",
      "=================================================================\n",
      "gru (GRU)                    (None, 288)               253152    \n",
      "_________________________________________________________________\n",
      "dense (Dense)                (None, 24)                6936      \n",
      "=================================================================\n",
      "Total params: 260,088\n",
      "Trainable params: 260,088\n",
      "Non-trainable params: 0\n",
      "_________________________________________________________________\n",
      "None\n"
     ]
    }
   ],
   "source": [
    "# LSTM input은 3차원\n",
    "\n",
    "model = Sequential()\n",
    "model.add(GRU(NPS, input_shape=(NPS,feature_num)))\n",
    "model.add(Dense(NFS, activation=\"relu\"))\n",
    "model.compile(loss='mse', optimizer='rmsprop', metrics=['mae'])\n",
    "print(model.summary())"
   ]
  },
  {
   "cell_type": "markdown",
   "metadata": {},
   "source": [
    "## 3. 학습"
   ]
  },
  {
   "cell_type": "code",
   "execution_count": 12,
   "metadata": {
    "scrolled": true
   },
   "outputs": [
    {
     "name": "stderr",
     "output_type": "stream",
     "text": [
      "WARNING: Logging before flag parsing goes to stderr.\n",
      "W0819 17:11:35.947428 17960 callbacks.py:859] `period` argument is deprecated. Please use `save_freq` to specify the frequency in number of samples seen.\n"
     ]
    },
    {
     "name": "stdout",
     "output_type": "stream",
     "text": [
      "(19932, 288, 3)\n",
      "Train on 19932 samples, validate on 2215 samples\n",
      "Epoch 1/5\n",
      "19932/19932 [==============================] - 308s 15ms/sample - loss: 4.1766e-04 - mae: 0.0129 - val_loss: 4.5380e-04 - val_mae: 0.0140\n",
      "Epoch 2/5\n",
      "19932/19932 [==============================] - 276s 14ms/sample - loss: 4.1365e-04 - mae: 0.0127 - val_loss: 5.0109e-04 - val_mae: 0.0162\n",
      "Epoch 3/5\n",
      "19932/19932 [==============================] - 274s 14ms/sample - loss: 4.1276e-04 - mae: 0.0127 - val_loss: 4.8490e-04 - val_mae: 0.0147\n",
      "Epoch 4/5\n",
      "19932/19932 [==============================] - 272s 14ms/sample - loss: 4.0879e-04 - mae: 0.0127 - val_loss: 5.6573e-04 - val_mae: 0.0167\n",
      "Epoch 5/5\n",
      "19908/19932 [============================>.] - ETA: 0s - loss: 4.0479e-04 - mae: 0.0127\n",
      "Epoch 00005: val_loss improved from inf to 0.00046, saving model to checkpoint_GRU_ma/cp-0005.ckpt\n",
      "19932/19932 [==============================] - 269s 14ms/sample - loss: 4.0446e-04 - mae: 0.0127 - val_loss: 4.5912e-04 - val_mae: 0.0137\n",
      "2215/2215 [==============================] - 15s 7ms/sample - loss: 4.5912e-04 - mae: 0.0137\n"
     ]
    },
    {
     "data": {
      "text/plain": [
       "[0.0004591227225006955, 0.013736631]"
      ]
     },
     "execution_count": 12,
     "metadata": {},
     "output_type": "execute_result"
    }
   ],
   "source": [
    "from tensorflow.keras.callbacks import ModelCheckpoint\n",
    "\n",
    "# checkpoint 저장할 폴더 설정\n",
    "checkpoint_path = \"checkpoint_GRU_ma\"\n",
    "if not os.path.exists(checkpoint_path):\n",
    "    os.mkdir(checkpoint_path)\n",
    "\n",
    "# 파일 이름에 에포크 번호를 포함시킵니다(`str.format` 포맷)\n",
    "checkpoint_name = checkpoint_path + \"/cp-{epoch:04d}.ckpt\"\n",
    "checkpoint_dir = os.path.dirname(checkpoint_path)\n",
    "\n",
    "# period 번째 에포크마다 가중치를 저장.\n",
    "cp_callback = ModelCheckpoint(checkpoint_name, verbose=1, save_weights_only=True, save_best_only=True, period=5)\n",
    "\n",
    "print(x_train.shape)\n",
    "\n",
    "# epochs 수 조절해서 학습시키기\n",
    "model.fit(x_train, y_train,\n",
    "         callbacks = [cp_callback],\n",
    "         validation_data=(x_test, y_test),\n",
    "         batch_size=36,\n",
    "         epochs=5,\n",
    "         verbose=1)\n",
    "\n",
    "# 모델 저장\n",
    "model.save('model_gru_ma.h5')\n",
    "model.evaluate(x_test, y_test)"
   ]
  },
  {
   "cell_type": "markdown",
   "metadata": {},
   "source": [
    "## 4. 테스트"
   ]
  },
  {
   "cell_type": "code",
   "execution_count": 74,
   "metadata": {},
   "outputs": [],
   "source": [
    "# pre-trained model이 저장되어 있다면 불러오기\n",
    "from tensorflow.keras.models import load_model\n",
    "model = load_model('model_gru_ma.h5')"
   ]
  },
  {
   "cell_type": "code",
   "execution_count": 75,
   "metadata": {},
   "outputs": [
    {
     "name": "stdout",
     "output_type": "stream",
     "text": [
      "Train on 19932 samples, validate on 2215 samples\n",
      "19932/19932 [==============================] - 307s 15ms/sample - loss: 4.0311e-04 - mae: 0.0126 - val_loss: 4.5312e-04 - val_mae: 0.0136\n"
     ]
    },
    {
     "data": {
      "text/plain": [
       "<tensorflow.python.keras.callbacks.History at 0x1db7eda6a90>"
      ]
     },
     "execution_count": 75,
     "metadata": {},
     "output_type": "execute_result"
    }
   ],
   "source": [
    "# 학습 모델 이어서 학습시 epochs 조절해서 추가로 학습하기\n",
    "# 또는 정상적으로 불러와졌는지 1에폭만 돌려서 loss값 보고 확인하기\n",
    "\n",
    "model.fit(x_train, y_train,\n",
    "         validation_data=(x_test, y_test),\n",
    "         batch_size=36,\n",
    "         epochs=1,\n",
    "         verbose=1)"
   ]
  },
  {
   "cell_type": "code",
   "execution_count": 76,
   "metadata": {},
   "outputs": [
    {
     "data": {
      "text/plain": [
       "(2215, 24)"
      ]
     },
     "execution_count": 76,
     "metadata": {},
     "output_type": "execute_result"
    }
   ],
   "source": [
    "# x_test데이터로 예측하기\n",
    "import matplotlib.pyplot as plt\n",
    "%matplotlib inline\n",
    "\n",
    "pred = model.predict(x_test)\n",
    "pred.shape"
   ]
  },
  {
   "cell_type": "code",
   "execution_count": 77,
   "metadata": {},
   "outputs": [],
   "source": [
    "import math\n",
    "from sklearn.metrics import mean_squared_error"
   ]
  },
  {
   "cell_type": "code",
   "execution_count": 79,
   "metadata": {},
   "outputs": [
    {
     "name": "stdout",
     "output_type": "stream",
     "text": [
      "Train Score: 121323.44 RMSE\n"
     ]
    }
   ],
   "source": [
    "# make prediction\n",
    "\n",
    "testPredict = scaler.inverse_transform(pred)\n",
    "testY = scaler.inverse_transform(y_test)\n",
    "testScore = math.sqrt(mean_squared_error(testY, testPredict))\n",
    "#testScore = math.sqrt(mean_squared_error(y_test, pred))\n",
    "\n",
    "print('Train Score: %.2f RMSE' % testScore)"
   ]
  },
  {
   "cell_type": "code",
   "execution_count": 84,
   "metadata": {},
   "outputs": [
    {
     "data": {
      "text/plain": [
       "<matplotlib.legend.Legend at 0x1db070a84a8>"
      ]
     },
     "execution_count": 84,
     "metadata": {},
     "output_type": "execute_result"
    },
    {
     "data": {
      "image/png": "[encoded data removed]",
      "text/plain": [
       "<Figure size 720x360 with 1 Axes>"
      ]
     },
     "metadata": {
      "needs_background": "light"
     },
     "output_type": "display_data"
    }
   ],
   "source": [
    "# 위에서 예측한 pred 값과 실제 값인 y_test값이 얼마나 일치하는지 그래프로 확인\n",
    "plt.figure(figsize=(10,5))\n",
    "plt.plot(pred[:,-1], label=\"predict\")\n",
    "plt.plot(np.arange(NFS, len(y_test[:,-1])+NFS) ,y_test[:,-1], label=\"real\")\n",
    "\n",
    "# 아래 코드 주석풀고 xlim을 조절하면서 확대해보기\n",
    "#plt.xlim(1800,2200)\n",
    "#plt.ylim(0.2, 0.5)\n",
    "plt.legend()\n"
   ]
  },
  {
   "cell_type": "markdown",
   "metadata": {},
   "source": [
    "## 5. 시각화"
   ]
  },
  {
   "cell_type": "code",
   "execution_count": 30,
   "metadata": {},
   "outputs": [
    {
     "name": "stdout",
     "output_type": "stream",
     "text": [
      "(2215,) (2215, 24)\n"
     ]
    }
   ],
   "source": [
    "# shape 확인\n",
    "print(df_truth.shape, y_test.shape)"
   ]
  },
  {
   "cell_type": "code",
   "execution_count": 46,
   "metadata": {},
   "outputs": [
    {
     "data": {
      "image/png": "[encoded data removed]",
      "text/plain": [
       "<Figure size 720x360 with 1 Axes>"
      ]
     },
     "metadata": {
      "needs_background": "light"
     },
     "output_type": "display_data"
    }
   ],
   "source": [
    "# 파란선: y_test(실제 값)\n",
    "# 초록선: test데이터에 있는 날짜 예측한 값\n",
    "# 빨간선: test데이터에 없는 날짜 예측값\n",
    "\n",
    "y = y_test[-NPS:,-1].reshape(-1,1)\n",
    "p = pred[-(NPS-NFS):,-1].reshape(-1,1)\n",
    "plt.figure(figsize=(10,5))\n",
    "plt.plot(y, color='b' ,label='real')\n",
    "plt.plot(p, color='g', label = 'pred')\n",
    "plt.plot(np.arange(NPS-NFS, NPS), pred[-1], color='r', label='pred')\n",
    "plt.legend()\n",
    "plt.show()"
   ]
  },
  {
   "cell_type": "code",
   "execution_count": 47,
   "metadata": {},
   "outputs": [],
   "source": [
    "# 이동평균선 계산 함수\n",
    "# data: NFS길이의 배열, ema_len: 평균 계산 길이, init: EMA 첫 번째 값 \n",
    "def cal_EMA(data, ema_len, init):\n",
    "    EMA = [init]\n",
    "    for i in range(1,len(data)):\n",
    "        EP = 2 / (ema_len + 1)\n",
    "        EMA.append((data[i] * EP) + (EMA[i-1] * (1-EP)))\n",
    "    return EMA"
   ]
  },
  {
   "cell_type": "code",
   "execution_count": 71,
   "metadata": {},
   "outputs": [
    {
     "data": {
      "image/png": "[encoded data removed]",
      "text/plain": [
       "<Figure size 720x360 with 1 Axes>"
      ]
     },
     "metadata": {
      "needs_background": "light"
     },
     "output_type": "display_data"
    }
   ],
   "source": [
    "# 검은선: y_test(실제 값)\n",
    "# 빨간선: pred(딥러닝 모델이 예측한 값)\n",
    "# 파란선: 이동평균선(ema(6))\n",
    "ema_len = 6\n",
    "pred_time = 448\n",
    "pred_gh = pred[pred_time:pred_time+NFS][-1]\n",
    "\n",
    "plt.figure(figsize=(10,5))\n",
    "plt.plot(y_test[pred_time:pred_time+NFS][-1], color='k' ,label='real')\n",
    "plt.plot(pred_gh, color='r', label = 'predict')\n",
    "EMA = cal_EMA(pred_gh, 6, 0.566,)\n",
    "plt.plot(EMA, color='b', label='EMA')\n",
    "plt.legend()\n",
    "plt.show()"
   ]
  },
  {
   "cell_type": "markdown",
   "metadata": {},
   "source": [
    "## 매수 매도 타이밍 계산"
   ]
  },
  {
   "cell_type": "code",
   "execution_count": 69,
   "metadata": {},
   "outputs": [
    {
     "name": "stdout",
     "output_type": "stream",
     "text": [
      "-49500.0 6 7\n"
     ]
    }
   ],
   "source": [
    "# 예측 데이터로 찾은 매수매도 타이밍을 실제 데이터에 적용했을 때 얻는 수익\n",
    "# prices는 NPS길이의 배열\n",
    "\n",
    "def max_Profit(prices,time):\n",
    "    n = len(prices)\n",
    "    max_profit = 0\n",
    "    min_price = prices[0]\n",
    "    \n",
    "    sell_idx = 0\n",
    "    buy_idx = 0\n",
    "    \n",
    "    for i in range(n-1):\n",
    "        for j in range(i+1, n):\n",
    "            profit = prices[j] - prices[i]\n",
    "            if profit > max_profit:\n",
    "                max_profit = profit\n",
    "                sell_idx = j\n",
    "                buy_idx = i\n",
    "    \n",
    "    \n",
    "    #print(df_truth[buy_idx+time], df_truth[sell_idx+time])\n",
    "    max_profit = df_truth[sell_idx+time-1] - df_truth[buy_idx+time-1]\n",
    "    return max_profit, buy_idx, sell_idx\n",
    "\n",
    "# pred_gh 와 EMA 총 수익 결과 비교해보기\n",
    "profit, buy_time, sell_time = max_Profit(pred_gh,pred_time)\n",
    "#profit, buy_time, sell_time = max_Profit(EMA,pred_time)\n",
    "print(profit, buy_time, sell_time)"
   ]
  },
  {
   "cell_type": "code",
   "execution_count": 70,
   "metadata": {
    "scrolled": false
   },
   "outputs": [
    {
     "data": {
      "image/png": "[encoded data removed]",
      "text/plain": [
       "<Figure size 432x288 with 1 Axes>"
      ]
     },
     "metadata": {
      "needs_background": "light"
     },
     "output_type": "display_data"
    }
   ],
   "source": [
    "plt.plot(y_test[pred_time:pred_time+24][-1], color='k' ,label='real')\n",
    "plt.plot(pred_gh, color='r', label = 'predict')\n",
    "plt.plot(EMA, color='m', label='EMA')\n",
    "plt.axvline(x=buy_time, color='b', linestyle='--', label='buy')\n",
    "plt.axvline(x=sell_time, color='g', linestyle='--', label='sell')\n",
    "plt.legend()\n",
    "plt.show()"
   ]
  },
  {
   "cell_type": "markdown",
   "metadata": {},
   "source": [
    "## EMA를 이용한 2215개(7일 16시간 35분) 예측의 총 수익"
   ]
  },
  {
   "cell_type": "code",
   "execution_count": 71,
   "metadata": {
    "scrolled": true
   },
   "outputs": [
    {
     "name": "stdout",
     "output_type": "stream",
     "text": [
      "1 0 20000.0\n",
      "2 24 500.0\n",
      "3 48 36000.0\n",
      "4 72 100000.0\n",
      "5 96 89500.0\n",
      "6 120 16000.0\n",
      "7 144 2500.0\n",
      "8 168 125000.0\n",
      "9 192 27000.0\n",
      "10 216 70000.0\n",
      "11 240 -500.0\n",
      "12 264 0.0\n",
      "13 288 -19500.0\n",
      "14 312 2000.0\n",
      "15 336 -51000.0\n",
      "16 360 -20000.0\n",
      "17 384 90500.0\n",
      "18 408 -2000.0\n",
      "19 432 -389000.0\n",
      "20 456 20500.0\n",
      "21 480 -219500.0\n",
      "22 504 -55000.0\n",
      "23 528 2000.0\n",
      "24 552 0.0\n",
      "25 576 4500.0\n",
      "26 600 5500.0\n",
      "27 624 7000.0\n",
      "28 648 56500.0\n",
      "29 672 59500.0\n",
      "30 696 -85000.0\n",
      "31 720 0.0\n",
      "32 744 102000.0\n",
      "33 768 -132000.0\n",
      "34 792 -97000.0\n",
      "35 816 5000.0\n",
      "36 840 204500.0\n",
      "37 864 0.0\n",
      "38 888 -115500.0\n",
      "39 912 -82500.0\n",
      "40 936 1500.0\n",
      "41 960 4000.0\n",
      "42 984 -45000.0\n",
      "43 1008 -55500.0\n",
      "44 1032 -14000.0\n",
      "45 1056 45000.0\n",
      "46 1080 48000.0\n",
      "47 1104 -166000.0\n",
      "48 1128 -10500.0\n",
      "49 1152 8000.0\n",
      "50 1176 -49500.0\n",
      "51 1200 39500.0\n",
      "52 1224 -9000.0\n",
      "53 1248 -500.0\n",
      "54 1272 1500.0\n",
      "55 1296 -119500.0\n",
      "56 1320 -3000.0\n",
      "57 1344 -280000.0\n",
      "58 1368 0.0\n",
      "59 1392 0.0\n",
      "60 1416 0.0\n",
      "61 1440 -107500.0\n",
      "62 1464 -101000.0\n",
      "63 1488 37500.0\n",
      "64 1512 69000.0\n",
      "65 1536 -27000.0\n",
      "66 1560 134500.0\n",
      "67 1584 -1500.0\n",
      "68 1608 -1500.0\n",
      "69 1632 -26500.0\n",
      "70 1656 4500.0\n",
      "71 1680 0.0\n",
      "72 1704 -92500.0\n",
      "73 1728 131500.0\n",
      "74 1752 -2000.0\n",
      "75 1776 5000.0\n",
      "76 1800 288500.0\n",
      "77 1824 -91000.0\n",
      "78 1848 84000.0\n",
      "79 1872 23000.0\n",
      "80 1896 0.0\n",
      "81 1920 48000.0\n",
      "82 1944 0.0\n",
      "83 1968 0.0\n",
      "84 1992 49000.0\n",
      "85 2016 3000.0\n",
      "86 2040 -15000.0\n",
      "87 2064 10000.0\n",
      "88 2088 -104000.0\n",
      "89 2112 -173000.0\n",
      "90 2136 -134500.0\n",
      "91 2160 -138000.0\n",
      "92 2184 0.0\n",
      "이익: 2081000.0\n",
      "손실: -3036000.0\n",
      "총수익(이익-손실): -955000.0\n"
     ]
    }
   ],
   "source": [
    "total_profit = 0\n",
    "total_loss = 0\n",
    "cnt = 0\n",
    "for i in range(0,pred.shape[0]-24,24):\n",
    "    cnt += 1\n",
    "    EMA = cal_EMA(pred[i:i+24][-1], 6, 0.55,)\n",
    "    profit, _, _ = max_Profit(EMA,i)\n",
    "    print(cnt, i, profit)\n",
    "    if profit >= 0 :\n",
    "        total_profit += profit\n",
    "    else:\n",
    "        total_loss += profit\n",
    "\n",
    "revenue = total_profit + total_loss\n",
    "\n",
    "print(\"이익:\", total_profit)\n",
    "print(\"손실:\", total_loss)\n",
    "print(\"총수익(이익-손실):\", total_profit+total_loss)"
   ]
  },
  {
   "cell_type": "code",
   "execution_count": null,
   "metadata": {},
   "outputs": [],
   "source": [
    "'''\n",
    "에러\n",
    "https://github.com/keras-team/keras/issues/11749\n",
    "The Incompatible shapes error is always [batchsize*final_layer_units] vs. [batchsize]\n",
    "\n",
    "https://github.com/kuza55/keras-extras/issues/7\n",
    "\n",
    "\n",
    "참고하기\n",
    "https://towardsdatascience.com/predicting-stock-price-with-lstm-13af86a74944\n",
    "\n",
    "LSTM input, output 설명\n",
    "https://medium.com/@shivajbd/understanding-input-and-output-shape-in-lstm-keras-c501ee95c65e\n",
    "\n",
    "\n",
    "GRU\n",
    "https://www.programcreek.com/python/example/97114/keras.layers.recurrent.GRU\n",
    "\n",
    "'''"
   ]
  }
 ],
 "metadata": {
  "kernelspec": {
   "display_name": "Python 3",
   "language": "python",
   "name": "python3"
  },
  "language_info": {
   "codemirror_mode": {
    "name": "ipython",
    "version": 3
   },
   "file_extension": ".py",
   "mimetype": "text/x-python",
   "name": "python",
   "nbconvert_exporter": "python",
   "pygments_lexer": "ipython3",
   "version": "3.6.8"
  }
 },
 "nbformat": 4,
 "nbformat_minor": 2
}
